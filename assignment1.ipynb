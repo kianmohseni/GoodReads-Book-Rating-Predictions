{
  "nbformat": 4,
  "nbformat_minor": 0,
  "metadata": {
    "colab": {
      "provenance": []
    },
    "kernelspec": {
      "name": "python3",
      "display_name": "Python 3"
    },
    "language_info": {
      "name": "python"
    }
  },
  "cells": [
    {
      "cell_type": "code",
      "execution_count": 1,
      "metadata": {
        "id": "Eh3q-zIVX6Si"
      },
      "outputs": [],
      "source": [
        "import gzip\n",
        "from collections import defaultdict\n",
        "import math\n",
        "import scipy.optimize\n",
        "from sklearn import svm\n",
        "import numpy\n",
        "import string\n",
        "import random\n",
        "import string\n",
        "from sklearn import linear_model\n",
        "import numpy as np"
      ]
    },
    {
      "cell_type": "code",
      "source": [
        "import warnings\n",
        "warnings.filterwarnings(\"ignore\")"
      ],
      "metadata": {
        "id": "7ws4KKesX7X1"
      },
      "execution_count": 2,
      "outputs": []
    },
    {
      "cell_type": "code",
      "source": [
        "def readGz(path):\n",
        "    for l in gzip.open(path, 'rt'):\n",
        "        yield eval(l)"
      ],
      "metadata": {
        "id": "pIZURzXuX7dN"
      },
      "execution_count": 3,
      "outputs": []
    },
    {
      "cell_type": "code",
      "source": [
        "def readCSV(path):\n",
        "    f = gzip.open(path, 'rt')\n",
        "    f.readline()\n",
        "    for l in f:\n",
        "        u,b,r = l.strip().split(',')\n",
        "        r = int(r)\n",
        "        yield u,b,r"
      ],
      "metadata": {
        "id": "iWnVftj3X7gH"
      },
      "execution_count": 4,
      "outputs": []
    },
    {
      "cell_type": "code",
      "source": [
        "from google.colab import drive\n",
        "drive.mount('/content/drive')"
      ],
      "metadata": {
        "colab": {
          "base_uri": "https://localhost:8080/"
        },
        "id": "78Z9gxy8X7hc",
        "outputId": "32ac0e95-1df7-47aa-b4ed-14065fe29dbe"
      },
      "execution_count": 5,
      "outputs": [
        {
          "output_type": "stream",
          "name": "stdout",
          "text": [
            "Mounted at /content/drive\n"
          ]
        }
      ]
    },
    {
      "cell_type": "code",
      "source": [
        "allRatings = []\n",
        "for l in readCSV(\"/content/drive/My Drive/DSC 256R/assignment1/train_Interactions.csv.gz\"):\n",
        "    allRatings.append(l)"
      ],
      "metadata": {
        "id": "kf-tGNh_X7jx"
      },
      "execution_count": 6,
      "outputs": []
    },
    {
      "cell_type": "code",
      "source": [
        "len(allRatings)"
      ],
      "metadata": {
        "colab": {
          "base_uri": "https://localhost:8080/"
        },
        "id": "mEESr8QTX7mL",
        "outputId": "5b248a28-fade-4f25-fdd7-84240e50b1e8"
      },
      "execution_count": 7,
      "outputs": [
        {
          "output_type": "execute_result",
          "data": {
            "text/plain": [
              "200000"
            ]
          },
          "metadata": {},
          "execution_count": 7
        }
      ]
    },
    {
      "cell_type": "code",
      "source": [
        "ratingsTrain = allRatings[:190000]\n",
        "ratingsValid = allRatings[190000:]\n",
        "ratingsPerUser = defaultdict(list)\n",
        "ratingsPerItem = defaultdict(list)\n",
        "for u,b,r in ratingsTrain:\n",
        "    ratingsPerUser[u].append((b,r))\n",
        "    ratingsPerItem[b].append((u,r))"
      ],
      "metadata": {
        "id": "sVvzljCqYNub"
      },
      "execution_count": 8,
      "outputs": []
    },
    {
      "cell_type": "code",
      "source": [
        "# Build a dictionary to store the sets of users who have read each book in the training set\n",
        "usersPerBook = defaultdict(set)\n",
        "for user, book, _ in ratingsTrain:\n",
        "    usersPerBook[book].add(user)"
      ],
      "metadata": {
        "id": "dUdPUXAXzxX-"
      },
      "execution_count": 9,
      "outputs": []
    },
    {
      "cell_type": "code",
      "source": [
        "# Copied from baseline code\n",
        "bookCount = defaultdict(int)\n",
        "totalRead = 0\n",
        "\n",
        "for user,book,_ in readCSV(\"/content/drive/My Drive/DSC 256R/assignment1/train_Interactions.csv.gz\"):\n",
        "    bookCount[book] += 1\n",
        "    totalRead += 1\n",
        "\n",
        "mostPopular = [(bookCount[x], x) for x in bookCount]\n",
        "mostPopular.sort()\n",
        "mostPopular.reverse()"
      ],
      "metadata": {
        "id": "q1VqLW0iYNxB"
      },
      "execution_count": 10,
      "outputs": []
    },
    {
      "cell_type": "code",
      "source": [
        "# Function to calculate Jaccard similarity between two books\n",
        "def jaccard_similarity(book1, book2):\n",
        "    users1 = usersPerBook[book1]\n",
        "    users2 = usersPerBook[book2]\n",
        "    intersection = users1.intersection(users2)\n",
        "    union = users1.union(users2)\n",
        "    if len(union) == 0:\n",
        "        return 0\n",
        "    return len(intersection) / len(union)"
      ],
      "metadata": {
        "id": "IpdaY4V5zDuU"
      },
      "execution_count": 11,
      "outputs": []
    },
    {
      "cell_type": "code",
      "source": [
        "# Now use a Jaccard Similarity-based threshold combined with a Popularity-based threshold\n",
        "\n",
        "def predict_read_hybrid(user, book, jaccard_threshold, popularity_books):\n",
        "    # Get books read by the user in the training set\n",
        "    books_read_by_user = [b for b, _ in ratingsPerUser[user]]\n",
        "\n",
        "    # If the user hasn't read any books in the training set, fall back to popularity check\n",
        "    if not books_read_by_user:\n",
        "        return int(book in popularity_books)\n",
        "\n",
        "    # Calculate the maximum Jaccard similarity for the books the user has read\n",
        "    max_jaccard = max(jaccard_similarity(book, b) for b in books_read_by_user)\n",
        "\n",
        "    # First check Jaccard similarity; if it exceeds the threshold, predict 'read'\n",
        "    if max_jaccard >= jaccard_threshold:\n",
        "        return 1\n",
        "    else:\n",
        "        return int(book in popularity_books)"
      ],
      "metadata": {
        "id": "fs6i7sEHYNzu"
      },
      "execution_count": 12,
      "outputs": []
    },
    {
      "cell_type": "code",
      "source": [
        "# Define a fixed popularity threshold based on the top 70% of books by interactions\n",
        "popularity_threshold = totalRead * 0.7\n",
        "popular_books = set()\n",
        "count = 0\n",
        "for ic, book in mostPopular:\n",
        "    count += ic\n",
        "    popular_books.add(book)\n",
        "    if count >= popularity_threshold:\n",
        "        break"
      ],
      "metadata": {
        "id": "uSurBo2nq_iL"
      },
      "execution_count": 13,
      "outputs": []
    },
    {
      "cell_type": "code",
      "source": [
        "# define 5% as optimal Jaccard similarity thresholds to test\n",
        "jaccard_threshold = 0.05"
      ],
      "metadata": {
        "id": "FfTgizCOq_kf"
      },
      "execution_count": 14,
      "outputs": []
    },
    {
      "cell_type": "code",
      "source": [
        "predictions = open(\"predictions_Read.csv\", 'w')\n",
        "for l in open(\"/content/drive/My Drive/DSC 256R/assignment1/pairs_Read.csv\"):\n",
        "    if l.startswith(\"userID\"):\n",
        "        predictions.write(l)\n",
        "        continue\n",
        "    u,b = l.strip().split(',')\n",
        "    predictions.write(u + ',' + b + ',' + str(predict_read_hybrid(u, b, jaccard_threshold, popular_books)) + '\\n')\n",
        "\n",
        "predictions.close()"
      ],
      "metadata": {
        "id": "rNnKkJ8qYN5R"
      },
      "execution_count": 15,
      "outputs": []
    },
    {
      "cell_type": "code",
      "source": [
        "# Initialize structures to store ratings\n",
        "ratingsPerUser = defaultdict(list)\n",
        "ratingsPerItem = defaultdict(list)\n",
        "\n",
        "for u, b, r in ratingsTrain:\n",
        "    ratingsPerUser[u].append((b, r))\n",
        "    ratingsPerItem[b].append((u, r))\n",
        "\n",
        "# Parameters and constants\n",
        "N_train = len(ratingsTrain)\n",
        "\n",
        "# Initialize variables\n",
        "alpha = np.mean([r for _, _, r in ratingsTrain])  # Global average rating\n",
        "beta_u = defaultdict(float)\n",
        "beta_i = defaultdict(float)\n",
        "\n",
        "# Convergence parameters\n",
        "max_iterations = 1000\n",
        "tol = 1e-10\n",
        "\n",
        "# Optimal lambda regularization value determined through iteration\n",
        "lambda_reg = 4.5"
      ],
      "metadata": {
        "id": "ldIOzfheyGN4"
      },
      "execution_count": 16,
      "outputs": []
    },
    {
      "cell_type": "code",
      "source": [
        "# Iterative optimization\n",
        "for iteration in range(max_iterations):\n",
        "    # Update alpha\n",
        "    alpha_old = alpha\n",
        "    alpha = sum(r - (beta_u[u] + beta_i[b]) for u, b, r in ratingsTrain) / N_train\n",
        "\n",
        "    # Update beta_u (user biases)\n",
        "    for u in ratingsPerUser:\n",
        "        beta_u[u] = sum(r - (alpha + beta_i[b]) for b, r in ratingsPerUser[u]) / (lambda_reg + len(ratingsPerUser[u]))\n",
        "\n",
        "    # Update beta_i (item biases)\n",
        "    for b in ratingsPerItem:\n",
        "        beta_i[b] = sum(r - (alpha + beta_u[u]) for u, r in ratingsPerItem[b]) / (lambda_reg + len(ratingsPerItem[b]))\n",
        "\n",
        "    # Check for convergence\n",
        "    if abs(alpha - alpha_old) < tol:\n",
        "        break"
      ],
      "metadata": {
        "id": "XTccb31YyGWN"
      },
      "execution_count": 17,
      "outputs": []
    },
    {
      "cell_type": "code",
      "source": [
        "predictions = open(\"predictions_Rating.csv\", 'w')\n",
        "for l in open(\"/content/drive/My Drive/DSC 256R/assignment1/pairs_Rating.csv\"):\n",
        "    if l.startswith(\"userID\"): # header\n",
        "        predictions.write(l)\n",
        "        continue\n",
        "    u,b = l.strip().split(',') # Read the user and item from the \"pairs\" file and write out your prediction\n",
        "    predictions.write(u + ',' + b + ',' + str(alpha + beta_u[u] + beta_i[b]) + '\\n')\n",
        "\n",
        "predictions.close()"
      ],
      "metadata": {
        "id": "lenCH1Z4Zza4"
      },
      "execution_count": 18,
      "outputs": []
    }
  ]
}